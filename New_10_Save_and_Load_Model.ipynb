{
  "nbformat": 4,
  "nbformat_minor": 0,
  "metadata": {
    "colab": {
      "name": "New-10-Save and Load Model.ipynb",
      "provenance": []
    },
    "kernelspec": {
      "name": "python3",
      "display_name": "Python 3"
    },
    "language_info": {
      "name": "python"
    }
  },
  "cells": [
    {
      "cell_type": "markdown",
      "source": [
        "**SAVE AND LOAD MODELS** "
      ],
      "metadata": {
        "id": "r_Alb_EXWVyC"
      }
    },
    {
      "cell_type": "code",
      "source": [
        "# install dan import tf dan dependensi\n",
        "!pip install pyyaml h5py"
      ],
      "metadata": {
        "colab": {
          "base_uri": "https://localhost:8080/"
        },
        "id": "q_A-SAqgWfHt",
        "outputId": "5f9fdf3d-b0be-4e42-f581-0b7efb64a74b"
      },
      "execution_count": 2,
      "outputs": [
        {
          "output_type": "stream",
          "name": "stdout",
          "text": [
            "Requirement already satisfied: pyyaml in /usr/local/lib/python3.7/dist-packages (3.13)\n",
            "Requirement already satisfied: h5py in /usr/local/lib/python3.7/dist-packages (3.1.0)\n",
            "Requirement already satisfied: cached-property in /usr/local/lib/python3.7/dist-packages (from h5py) (1.5.2)\n",
            "Requirement already satisfied: numpy>=1.14.5 in /usr/local/lib/python3.7/dist-packages (from h5py) (1.19.5)\n"
          ]
        }
      ]
    },
    {
      "cell_type": "code",
      "source": [
        "import os\n",
        "import tensorflow as tf\n",
        "from tensorflow import keras\n",
        "\n",
        "print(tf.version.VERSION)"
      ],
      "metadata": {
        "colab": {
          "base_uri": "https://localhost:8080/"
        },
        "id": "8c1mBHdLWpUv",
        "outputId": "8c871536-e50f-4b29-b074-31d05b827213"
      },
      "execution_count": 4,
      "outputs": [
        {
          "output_type": "stream",
          "name": "stdout",
          "text": [
            "2.7.0\n"
          ]
        }
      ]
    },
    {
      "cell_type": "code",
      "source": [
        "# import dataset\n",
        "(train_images, train_labels), (test_images, test_labels) = tf.keras.datasets.mnist.load_data()\n",
        "\n",
        "train_labels = train_labels[:1000]\n",
        "test_labels = test_labels[:1000]\n",
        "\n",
        "train_images = train_images[:1000].reshape(-1,28*28)/255.0\n",
        "test_images = test_images[:1000].reshape(-1,28*28)/255.0"
      ],
      "metadata": {
        "colab": {
          "base_uri": "https://localhost:8080/"
        },
        "id": "VIQZT4zYW5jH",
        "outputId": "cb6799a7-2e5c-49f4-ce38-45d67bb64051"
      },
      "execution_count": 7,
      "outputs": [
        {
          "output_type": "stream",
          "name": "stdout",
          "text": [
            "Downloading data from https://storage.googleapis.com/tensorflow/tf-keras-datasets/mnist.npz\n",
            "11493376/11490434 [==============================] - 0s 0us/step\n",
            "11501568/11490434 [==============================] - 0s 0us/step\n"
          ]
        }
      ]
    },
    {
      "cell_type": "code",
      "source": [
        "# membuat model\n",
        "def create_model():\n",
        "  model = tf.keras.Sequential([\n",
        "        keras.layers.Dense(512, activation='relu', input_shape=(784,)),\n",
        "        keras.layers.Dropout(0.2),\n",
        "        keras.layers.Dense(10)\n",
        "  ])\n",
        "  model.compile(optimizer='adam',\n",
        "                loss=tf.losses.SparseCategoricalCrossentropy(from_logits=True),\n",
        "                metrics=[tf.metrics.SparseCategoricalAccuracy()])\n",
        "  return model\n",
        "\n",
        "# membuat basic model instance\n",
        "model = create_model()\n",
        "\n",
        "# menampilkan arsitektur model\n",
        "model.summary()"
      ],
      "metadata": {
        "colab": {
          "base_uri": "https://localhost:8080/"
        },
        "id": "9B_u6DdWXedo",
        "outputId": "2e5f966d-c740-462f-b97a-cc7698700582"
      },
      "execution_count": 9,
      "outputs": [
        {
          "output_type": "stream",
          "name": "stdout",
          "text": [
            "Model: \"sequential\"\n",
            "_________________________________________________________________\n",
            " Layer (type)                Output Shape              Param #   \n",
            "=================================================================\n",
            " dense (Dense)               (None, 512)               401920    \n",
            "                                                                 \n",
            " dropout (Dropout)           (None, 512)               0         \n",
            "                                                                 \n",
            " dense_1 (Dense)             (None, 10)                5130      \n",
            "                                                                 \n",
            "=================================================================\n",
            "Total params: 407,050\n",
            "Trainable params: 407,050\n",
            "Non-trainable params: 0\n",
            "_________________________________________________________________\n"
          ]
        }
      ]
    },
    {
      "cell_type": "code",
      "source": [
        "# Menyimpan Checkpoints selama Pelatihan\n",
        "\n",
        "# penggunaan checkpoint callback\n",
        "checkpoint_path = 'training_1/cp/ckpt'\n",
        "checkpoint_dir = os.path.dirname(checkpoint_path)\n",
        "\n",
        "# membuat callback yang menyimpan model's weights\n",
        "cp_callback = tf.keras.callbacks.ModelCheckpoint(filepath=checkpoint_path,\n",
        "                                                 save_weights_only=True,\n",
        "                                                 verbose=1)\n",
        "\n",
        "# melatih model dengan callback yang baru\n",
        "model.fit(train_images,\n",
        "          train_labels,\n",
        "          epochs=10,\n",
        "          validation_data=(test_images, test_labels),\n",
        "          callbacks=[cp_callback]) # pass callback ke training\n",
        "\n",
        "# proses ini mungkin memunculkan warning yg berkaitan dengan penyimpanan state dari optimizer\n",
        "# warnings ini dapat dihiraukan"
      ],
      "metadata": {
        "colab": {
          "base_uri": "https://localhost:8080/"
        },
        "id": "lO6702DTXtaK",
        "outputId": "d4235392-e564-41c9-b723-528873ce6942"
      },
      "execution_count": 10,
      "outputs": [
        {
          "output_type": "stream",
          "name": "stdout",
          "text": [
            "Epoch 1/10\n",
            "25/32 [======================>.......] - ETA: 0s - loss: 1.3258 - sparse_categorical_accuracy: 0.6112\n",
            "Epoch 00001: saving model to training_1/cp/ckpt\n",
            "32/32 [==============================] - 1s 20ms/step - loss: 1.1975 - sparse_categorical_accuracy: 0.6440 - val_loss: 0.7226 - val_sparse_categorical_accuracy: 0.7900\n",
            "Epoch 2/10\n",
            "31/32 [============================>.] - ETA: 0s - loss: 0.4367 - sparse_categorical_accuracy: 0.8720\n",
            "Epoch 00002: saving model to training_1/cp/ckpt\n",
            "32/32 [==============================] - 0s 8ms/step - loss: 0.4372 - sparse_categorical_accuracy: 0.8710 - val_loss: 0.5486 - val_sparse_categorical_accuracy: 0.8240\n",
            "Epoch 3/10\n",
            "24/32 [=====================>........] - ETA: 0s - loss: 0.2942 - sparse_categorical_accuracy: 0.9232\n",
            "Epoch 00003: saving model to training_1/cp/ckpt\n",
            "32/32 [==============================] - 0s 8ms/step - loss: 0.2899 - sparse_categorical_accuracy: 0.9210 - val_loss: 0.4742 - val_sparse_categorical_accuracy: 0.8490\n",
            "Epoch 4/10\n",
            "26/32 [=======================>......] - ETA: 0s - loss: 0.2183 - sparse_categorical_accuracy: 0.9483\n",
            "Epoch 00004: saving model to training_1/cp/ckpt\n",
            "32/32 [==============================] - 0s 8ms/step - loss: 0.2103 - sparse_categorical_accuracy: 0.9520 - val_loss: 0.4300 - val_sparse_categorical_accuracy: 0.8610\n",
            "Epoch 5/10\n",
            "25/32 [======================>.......] - ETA: 0s - loss: 0.1679 - sparse_categorical_accuracy: 0.9625\n",
            "Epoch 00005: saving model to training_1/cp/ckpt\n",
            "32/32 [==============================] - 0s 8ms/step - loss: 0.1548 - sparse_categorical_accuracy: 0.9670 - val_loss: 0.4457 - val_sparse_categorical_accuracy: 0.8650\n",
            "Epoch 6/10\n",
            "24/32 [=====================>........] - ETA: 0s - loss: 0.1016 - sparse_categorical_accuracy: 0.9870\n",
            "Epoch 00006: saving model to training_1/cp/ckpt\n",
            "32/32 [==============================] - 0s 10ms/step - loss: 0.1140 - sparse_categorical_accuracy: 0.9800 - val_loss: 0.4308 - val_sparse_categorical_accuracy: 0.8550\n",
            "Epoch 7/10\n",
            "23/32 [====================>.........] - ETA: 0s - loss: 0.0904 - sparse_categorical_accuracy: 0.9810\n",
            "Epoch 00007: saving model to training_1/cp/ckpt\n",
            "32/32 [==============================] - 0s 8ms/step - loss: 0.0894 - sparse_categorical_accuracy: 0.9820 - val_loss: 0.4107 - val_sparse_categorical_accuracy: 0.8630\n",
            "Epoch 8/10\n",
            "23/32 [====================>.........] - ETA: 0s - loss: 0.0617 - sparse_categorical_accuracy: 0.9973\n",
            "Epoch 00008: saving model to training_1/cp/ckpt\n",
            "32/32 [==============================] - 0s 8ms/step - loss: 0.0576 - sparse_categorical_accuracy: 0.9980 - val_loss: 0.4089 - val_sparse_categorical_accuracy: 0.8670\n",
            "Epoch 9/10\n",
            "24/32 [=====================>........] - ETA: 0s - loss: 0.0460 - sparse_categorical_accuracy: 0.9974\n",
            "Epoch 00009: saving model to training_1/cp/ckpt\n",
            "32/32 [==============================] - 0s 10ms/step - loss: 0.0456 - sparse_categorical_accuracy: 0.9980 - val_loss: 0.3923 - val_sparse_categorical_accuracy: 0.8780\n",
            "Epoch 10/10\n",
            "27/32 [========================>.....] - ETA: 0s - loss: 0.0375 - sparse_categorical_accuracy: 0.9988\n",
            "Epoch 00010: saving model to training_1/cp/ckpt\n",
            "32/32 [==============================] - 0s 7ms/step - loss: 0.0401 - sparse_categorical_accuracy: 0.9990 - val_loss: 0.4165 - val_sparse_categorical_accuracy: 0.8680\n"
          ]
        },
        {
          "output_type": "execute_result",
          "data": {
            "text/plain": [
              "<keras.callbacks.History at 0x7fe937700210>"
            ]
          },
          "metadata": {},
          "execution_count": 10
        }
      ]
    },
    {
      "cell_type": "code",
      "source": [
        "os.listdir(checkpoint_dir)"
      ],
      "metadata": {
        "colab": {
          "base_uri": "https://localhost:8080/"
        },
        "id": "rRVvd58fZkSG",
        "outputId": "bf59a2ac-d19c-476e-9151-bb5e704d6570"
      },
      "execution_count": 11,
      "outputs": [
        {
          "output_type": "execute_result",
          "data": {
            "text/plain": [
              "['ckpt.index', 'ckpt.data-00000-of-00001', 'checkpoint']"
            ]
          },
          "metadata": {},
          "execution_count": 11
        }
      ]
    },
    {
      "cell_type": "code",
      "source": [
        "# Sekarang, bangun kembali model yang fresh dan untrained dan evaluate di test set\n",
        "\n",
        "# membuat basic model instance\n",
        "model = create_model()\n",
        "\n",
        "#evaluasi model\n",
        "loss, acc = model.evaluate(test_images, test_labels, verbose=2)\n",
        "print('Untrained model, accuracy: {:5.2f}%'.format(100*acc))"
      ],
      "metadata": {
        "colab": {
          "base_uri": "https://localhost:8080/"
        },
        "id": "qxa8jD4xZ6Ei",
        "outputId": "ba99e994-9db1-414e-c529-b060012ecfbb"
      },
      "execution_count": 12,
      "outputs": [
        {
          "output_type": "stream",
          "name": "stdout",
          "text": [
            "32/32 - 0s - loss: 2.3082 - sparse_categorical_accuracy: 0.1360 - 153ms/epoch - 5ms/step\n",
            "Untrained model, accuracy: 13.60%\n"
          ]
        }
      ]
    },
    {
      "cell_type": "code",
      "source": [
        "# Load the weights\n",
        "model.load_weights(checkpoint_path)\n",
        "\n",
        "# re-evaluasi model\n",
        "loss, acc = model.evaluate(test_images, test_labels, verbose=2)\n",
        "print('Restored model, accuracy: {:5.2f}%'.format(100*acc))"
      ],
      "metadata": {
        "colab": {
          "base_uri": "https://localhost:8080/"
        },
        "id": "oN-dYNrQaozj",
        "outputId": "caa9ee42-a725-40eb-8ee4-da986b3d7762"
      },
      "execution_count": 14,
      "outputs": [
        {
          "output_type": "stream",
          "name": "stdout",
          "text": [
            "32/32 - 0s - loss: 0.4165 - sparse_categorical_accuracy: 0.8680 - 66ms/epoch - 2ms/step\n",
            "Restored model, accuracy: 86.80%\n"
          ]
        }
      ]
    },
    {
      "cell_type": "code",
      "source": [
        "# Opsi callback checkpoint\n",
        "\n",
        "# masukkan epoch ke dalam file name (gunakan 'str.format')\n",
        "checkpoint_path = 'training_2/cp-{epoch:04d}.ckpt'\n",
        "checkpoint_dir = os.path.dirname(checkpoint_path)\n",
        "\n",
        "batch_size = 32\n",
        "\n",
        "# membuat callback yang menyimpan model's weights setiap 5 epoch\n",
        "cp_callback = tf.keras.callbacks.ModelCheckpoint(\n",
        "    filepath=checkpoint_path,\n",
        "    verbose=1,\n",
        "    save_weights_only=True,\n",
        "    save_freq=5*batch_size\n",
        ")\n",
        "# membuat model instance baru\n",
        "model = create_model()\n",
        "\n",
        "# menyimpan weights menggunakan format 'checkpoint_path'\n",
        "model.save_weights(checkpoint_path.format(epoch=0))\n",
        "\n",
        "# melatih model dengan callback yang baru\n",
        "model.fit(train_images,\n",
        "          train_labels,\n",
        "          epochs=50,\n",
        "          batch_size=batch_size,\n",
        "          callbacks=[cp_callback],\n",
        "          validation_data=(test_images, test_labels),\n",
        "          verbose=0)"
      ],
      "metadata": {
        "colab": {
          "base_uri": "https://localhost:8080/"
        },
        "id": "HzEOuoTWbA-R",
        "outputId": "afc03547-8f81-4644-c77a-7bc42c2759ac"
      },
      "execution_count": 15,
      "outputs": [
        {
          "output_type": "stream",
          "name": "stdout",
          "text": [
            "\n",
            "Epoch 00005: saving model to training_2/cp-0005.ckpt\n",
            "\n",
            "Epoch 00010: saving model to training_2/cp-0010.ckpt\n",
            "\n",
            "Epoch 00015: saving model to training_2/cp-0015.ckpt\n",
            "\n",
            "Epoch 00020: saving model to training_2/cp-0020.ckpt\n",
            "\n",
            "Epoch 00025: saving model to training_2/cp-0025.ckpt\n",
            "\n",
            "Epoch 00030: saving model to training_2/cp-0030.ckpt\n",
            "\n",
            "Epoch 00035: saving model to training_2/cp-0035.ckpt\n",
            "\n",
            "Epoch 00040: saving model to training_2/cp-0040.ckpt\n",
            "\n",
            "Epoch 00045: saving model to training_2/cp-0045.ckpt\n",
            "\n",
            "Epoch 00050: saving model to training_2/cp-0050.ckpt\n"
          ]
        },
        {
          "output_type": "execute_result",
          "data": {
            "text/plain": [
              "<keras.callbacks.History at 0x7fe9375f6b50>"
            ]
          },
          "metadata": {},
          "execution_count": 15
        }
      ]
    },
    {
      "cell_type": "code",
      "source": [
        "os.listdir(checkpoint_dir)"
      ],
      "metadata": {
        "colab": {
          "base_uri": "https://localhost:8080/"
        },
        "id": "nE-xX07Gc9Tw",
        "outputId": "fa1cf13b-4591-4ff0-f652-5a0c0c6e2a42"
      },
      "execution_count": 16,
      "outputs": [
        {
          "output_type": "execute_result",
          "data": {
            "text/plain": [
              "['cp-0015.ckpt.index',\n",
              " 'cp-0010.ckpt.data-00000-of-00001',\n",
              " 'cp-0025.ckpt.data-00000-of-00001',\n",
              " 'cp-0025.ckpt.index',\n",
              " 'cp-0030.ckpt.data-00000-of-00001',\n",
              " 'cp-0000.ckpt.index',\n",
              " 'cp-0045.ckpt.data-00000-of-00001',\n",
              " 'cp-0015.ckpt.data-00000-of-00001',\n",
              " 'cp-0035.ckpt.index',\n",
              " 'cp-0035.ckpt.data-00000-of-00001',\n",
              " 'cp-0000.ckpt.data-00000-of-00001',\n",
              " 'checkpoint',\n",
              " 'cp-0010.ckpt.index',\n",
              " 'cp-0045.ckpt.index',\n",
              " 'cp-0020.ckpt.data-00000-of-00001',\n",
              " 'cp-0050.ckpt.index',\n",
              " 'cp-0050.ckpt.data-00000-of-00001',\n",
              " 'cp-0005.ckpt.data-00000-of-00001',\n",
              " 'cp-0005.ckpt.index',\n",
              " 'cp-0020.ckpt.index',\n",
              " 'cp-0040.ckpt.data-00000-of-00001',\n",
              " 'cp-0030.ckpt.index',\n",
              " 'cp-0040.ckpt.index']"
            ]
          },
          "metadata": {},
          "execution_count": 16
        }
      ]
    },
    {
      "cell_type": "code",
      "source": [
        "latest = tf.train.latest_checkpoint(checkpoint_dir)\n",
        "latest"
      ],
      "metadata": {
        "colab": {
          "base_uri": "https://localhost:8080/",
          "height": 35
        },
        "id": "oW_W9l_EdMym",
        "outputId": "251cab14-2ce3-4b4d-89c1-359851c40d22"
      },
      "execution_count": 17,
      "outputs": [
        {
          "output_type": "execute_result",
          "data": {
            "application/vnd.google.colaboratory.intrinsic+json": {
              "type": "string"
            },
            "text/plain": [
              "'training_2/cp-0050.ckpt'"
            ]
          },
          "metadata": {},
          "execution_count": 17
        }
      ]
    },
    {
      "cell_type": "code",
      "source": [
        "# Reset model dan load latest checkpoint\n",
        "model = create_model()\n",
        "\n",
        "# muat weights yang telah disimpan sebelumnya\n",
        "model.load_weights(latest)\n",
        "\n",
        "# reevaluate model\n",
        "loss, acc = model.evaluate(test_images, test_labels, verbose=2)\n",
        "print('Restored model, akurasi: {:5.2f}%'.format(100*acc))"
      ],
      "metadata": {
        "colab": {
          "base_uri": "https://localhost:8080/"
        },
        "id": "LV5LFaqwdU8Y",
        "outputId": "03a38da1-e903-41d7-cf13-70b758c48f66"
      },
      "execution_count": 18,
      "outputs": [
        {
          "output_type": "stream",
          "name": "stdout",
          "text": [
            "32/32 - 0s - loss: 0.4642 - sparse_categorical_accuracy: 0.8810 - 152ms/epoch - 5ms/step\n",
            "Restored model, akurasi: 88.10%\n"
          ]
        }
      ]
    },
    {
      "cell_type": "markdown",
      "source": [
        "Kode diatas menyimpan the weights ke dalam koleksi file berformat-checkpoint yang mengandung hanya trained weights dalam format binary. Checkpoint mengandung:\n",
        "\n",
        "\n",
        "*   Satu atau lebih shards yang mengandung model weights \n",
        "*   Sebuah indeks yang mengindikasikan bobot mana yang disimpan dalam salah satu shard\n",
        "\n"
      ],
      "metadata": {
        "id": "ABktK0lwfN8I"
      }
    },
    {
      "cell_type": "code",
      "source": [
        "# Menyimpan BObot Manual\n",
        "\n",
        "# menyimpan bobot\n",
        "model.save_weights('checkpoints/my_checkpoint')\n",
        "\n",
        "# membuat model instan baru\n",
        "model = create_model()\n",
        "\n",
        "# mengembalikan bobot\n",
        "model.load_weights('./checkpoints/my_checkpoint')\n",
        "\n",
        "# evaluasi model\n",
        "loss,acc = model.evaluate(test_images, test_labels, verbose=2)\n",
        "print('Restored model, akurasi: {:5.2f}%'.format(100*acc))"
      ],
      "metadata": {
        "colab": {
          "base_uri": "https://localhost:8080/"
        },
        "id": "E0oq-KHfeMcG",
        "outputId": "c74c0c93-8a0c-4dcb-b997-d2f38d2fcb2c"
      },
      "execution_count": 19,
      "outputs": [
        {
          "output_type": "stream",
          "name": "stdout",
          "text": [
            "32/32 - 0s - loss: 0.4642 - sparse_categorical_accuracy: 0.8810 - 155ms/epoch - 5ms/step\n",
            "Restored model, akurasi: 88.10%\n"
          ]
        }
      ]
    },
    {
      "cell_type": "code",
      "source": [
        "# Menyimpan Seluruh MOdel\n",
        "\n",
        "# SavedModel format\n",
        "\n",
        "# membuat dan melatih model instan\n",
        "model = create_model()\n",
        "model.fit(train_images, train_labels, epochs=5)\n",
        "\n",
        "# save seluruh model sebagai SavedModel\n",
        "!mkdir -p saved_model\n",
        "model.save('saved_model/my_model')"
      ],
      "metadata": {
        "colab": {
          "base_uri": "https://localhost:8080/"
        },
        "id": "xf3RlyZvgwTN",
        "outputId": "3f332bb2-9eb4-4ec5-f08e-7e5be0b00245"
      },
      "execution_count": 20,
      "outputs": [
        {
          "output_type": "stream",
          "name": "stdout",
          "text": [
            "Epoch 1/5\n",
            "32/32 [==============================] - 0s 4ms/step - loss: 1.1496 - sparse_categorical_accuracy: 0.6730\n",
            "Epoch 2/5\n",
            "32/32 [==============================] - 0s 4ms/step - loss: 0.4283 - sparse_categorical_accuracy: 0.8750\n",
            "Epoch 3/5\n",
            "32/32 [==============================] - 0s 4ms/step - loss: 0.2903 - sparse_categorical_accuracy: 0.9190\n",
            "Epoch 4/5\n",
            "32/32 [==============================] - 0s 4ms/step - loss: 0.2113 - sparse_categorical_accuracy: 0.9460\n",
            "Epoch 5/5\n",
            "32/32 [==============================] - 0s 4ms/step - loss: 0.1476 - sparse_categorical_accuracy: 0.9690\n",
            "INFO:tensorflow:Assets written to: saved_model/my_model/assets\n"
          ]
        }
      ]
    },
    {
      "cell_type": "code",
      "source": [
        "# my_model directory\n",
        "%ls saved_model\n",
        "\n",
        "# mengandung folder assets, saved_model.pb dan variables\n",
        "%ls saved_model/my_model"
      ],
      "metadata": {
        "colab": {
          "base_uri": "https://localhost:8080/"
        },
        "id": "WwPIzMC_hlyQ",
        "outputId": "cb7dc903-7ddb-4f67-9e3c-c85edaff884a"
      },
      "execution_count": 23,
      "outputs": [
        {
          "output_type": "stream",
          "name": "stdout",
          "text": [
            "\u001b[0m\u001b[01;34mmy_model\u001b[0m/\n",
            "\u001b[0m\u001b[01;34massets\u001b[0m/  keras_metadata.pb  saved_model.pb  \u001b[01;34mvariables\u001b[0m/\n"
          ]
        }
      ]
    },
    {
      "cell_type": "code",
      "source": [
        "# reload model Keras baru dari model tersimpan\n",
        "new_model = tf.keras.models.load_model('saved_model/my_model')\n",
        "\n",
        "# mengecek arsitekturnya\n",
        "new_model.summary() "
      ],
      "metadata": {
        "colab": {
          "base_uri": "https://localhost:8080/"
        },
        "id": "jGNRreLriIZo",
        "outputId": "1c7c003a-976c-4e47-ec89-222026c9323e"
      },
      "execution_count": 24,
      "outputs": [
        {
          "output_type": "stream",
          "name": "stdout",
          "text": [
            "Model: \"sequential_5\"\n",
            "_________________________________________________________________\n",
            " Layer (type)                Output Shape              Param #   \n",
            "=================================================================\n",
            " dense_10 (Dense)            (None, 512)               401920    \n",
            "                                                                 \n",
            " dropout_5 (Dropout)         (None, 512)               0         \n",
            "                                                                 \n",
            " dense_11 (Dense)            (None, 10)                5130      \n",
            "                                                                 \n",
            "=================================================================\n",
            "Total params: 407,050\n",
            "Trainable params: 407,050\n",
            "Non-trainable params: 0\n",
            "_________________________________________________________________\n"
          ]
        }
      ]
    },
    {
      "cell_type": "code",
      "source": [
        "# Mengevaluasi restored model\n",
        "loss, acc = new_model.evaluate(test_images, test_labels, verbose=2)\n",
        "print('Restored model, akurasi: {:5.2f}%'.format(100*acc))\n",
        "\n",
        "print(new_model.predict(test_images).shape)"
      ],
      "metadata": {
        "colab": {
          "base_uri": "https://localhost:8080/"
        },
        "id": "fTPEawW3inWv",
        "outputId": "fd4edfe0-500b-4453-d174-8beaacd117f6"
      },
      "execution_count": 25,
      "outputs": [
        {
          "output_type": "stream",
          "name": "stdout",
          "text": [
            "32/32 - 0s - loss: 0.4292 - sparse_categorical_accuracy: 0.8570 - 160ms/epoch - 5ms/step\n",
            "Restored model, akurasi: 85.70%\n",
            "(1000, 10)\n"
          ]
        }
      ]
    },
    {
      "cell_type": "code",
      "source": [
        "# Save format menggunakan HDF5 standard\n",
        "\n",
        "# membuat dan melatih model instan\n",
        "model = create_model()\n",
        "model.fit(train_images, train_labels, epochs=5)\n",
        "\n",
        "# menyimpan seluruh model dalam file HDF5 (memperlihatkan ekstensi '.h5')\n",
        "model.save('my_model.h5')"
      ],
      "metadata": {
        "colab": {
          "base_uri": "https://localhost:8080/"
        },
        "id": "ARZeZwIajF-m",
        "outputId": "1fa1a91c-9272-4dcb-cfeb-9f134906c140"
      },
      "execution_count": 26,
      "outputs": [
        {
          "output_type": "stream",
          "name": "stdout",
          "text": [
            "Epoch 1/5\n",
            "32/32 [==============================] - 0s 4ms/step - loss: 1.1434 - sparse_categorical_accuracy: 0.6710\n",
            "Epoch 2/5\n",
            "32/32 [==============================] - 0s 4ms/step - loss: 0.4241 - sparse_categorical_accuracy: 0.8760\n",
            "Epoch 3/5\n",
            "32/32 [==============================] - 0s 4ms/step - loss: 0.2881 - sparse_categorical_accuracy: 0.9270\n",
            "Epoch 4/5\n",
            "32/32 [==============================] - 0s 4ms/step - loss: 0.2169 - sparse_categorical_accuracy: 0.9440\n",
            "Epoch 5/5\n",
            "32/32 [==============================] - 0s 4ms/step - loss: 0.1617 - sparse_categorical_accuracy: 0.9650\n"
          ]
        }
      ]
    },
    {
      "cell_type": "code",
      "source": [
        "# membuat file dari file diatas\n",
        "\n",
        "# membuat ulang model yg sama, termasuk bobot dan optimizer nya\n",
        "new_model = tf.keras.models.load_model('my_model.h5')\n",
        "\n",
        "# tampilkan arsitektur model\n",
        "new_model.summary()"
      ],
      "metadata": {
        "colab": {
          "base_uri": "https://localhost:8080/"
        },
        "id": "Bam25jFSjzL3",
        "outputId": "6bae2b58-1b46-441e-d07f-7bb286354a98"
      },
      "execution_count": 27,
      "outputs": [
        {
          "output_type": "stream",
          "name": "stdout",
          "text": [
            "Model: \"sequential_6\"\n",
            "_________________________________________________________________\n",
            " Layer (type)                Output Shape              Param #   \n",
            "=================================================================\n",
            " dense_12 (Dense)            (None, 512)               401920    \n",
            "                                                                 \n",
            " dropout_6 (Dropout)         (None, 512)               0         \n",
            "                                                                 \n",
            " dense_13 (Dense)            (None, 10)                5130      \n",
            "                                                                 \n",
            "=================================================================\n",
            "Total params: 407,050\n",
            "Trainable params: 407,050\n",
            "Non-trainable params: 0\n",
            "_________________________________________________________________\n"
          ]
        }
      ]
    },
    {
      "cell_type": "code",
      "source": [
        "# mengecek akurasi\n",
        "loss,acc = new_model.evaluate(test_images, test_labels, verbose=2)\n",
        "print('Restored model, akurasi: {:5.2f}%'.format(100*acc))"
      ],
      "metadata": {
        "colab": {
          "base_uri": "https://localhost:8080/"
        },
        "id": "YvoOaFhnkMTU",
        "outputId": "c9a4b56d-50ca-45d7-d7e4-515f2c790d33"
      },
      "execution_count": 28,
      "outputs": [
        {
          "output_type": "stream",
          "name": "stdout",
          "text": [
            "32/32 - 0s - loss: 0.4288 - sparse_categorical_accuracy: 0.8620 - 153ms/epoch - 5ms/step\n",
            "Restored model, akurasi: 86.20%\n"
          ]
        }
      ]
    },
    {
      "cell_type": "markdown",
      "source": [
        "Keras saves models by inspecting their architectures. This technique saves everything:\n",
        "\n",
        "1. The weight values\n",
        "2. The model's architecture\n",
        "3. The model's training configuration (what you pass to the .compile() method)\n",
        "4. The optimizer and its state, if any (this enables you to restart training where you left off)\n",
        "\n",
        "\n"
      ],
      "metadata": {
        "id": "nUJGwe8CkxQB"
      }
    }
  ]
}